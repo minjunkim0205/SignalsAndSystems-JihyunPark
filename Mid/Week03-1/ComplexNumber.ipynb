{
 "cells": [
  {
   "cell_type": "markdown",
   "source": [
    "# 실습 - 복소수 연산"
   ],
   "metadata": {
    "collapsed": false
   },
   "id": "244a4589e0881b93"
  },
  {
   "cell_type": "markdown",
   "source": [
    "### 파이썬을 이용한 복소수 연산"
   ],
   "metadata": {
    "collapsed": false
   },
   "id": "9ef22ff1a71e301f"
  },
  {
   "cell_type": "code",
   "outputs": [
    {
     "name": "stdout",
     "output_type": "stream",
     "text": [
      "(3+0j)\n",
      "(-1+2j)\n",
      "(3+1j)\n",
      "(0.2+0.6j)\n",
      "(1-1j)\n",
      "2.0\n",
      "-1.0\n",
      "1.4142135623730951\n"
     ]
    }
   ],
   "source": [
    "z_1 = 1 + 1j\n",
    "z_2 = 2 - 1j\n",
    "\n",
    "print(z_1+z_2, end=\"\\n\")\n",
    "print(z_1-z_2, end=\"\\n\")\n",
    "print(z_1*z_2, end=\"\\n\")\n",
    "print(z_1/z_2, end=\"\\n\")\n",
    "print(z_1.conjugate(), end=\"\\n\")\n",
    "print(z_2.real, end=\"\\n\")\n",
    "print(z_2.imag, end=\"\\n\")\n",
    "print(abs(z_1), end=\"\\n\")"
   ],
   "metadata": {
    "collapsed": false,
    "ExecuteTime": {
     "end_time": "2024-03-19T02:36:29.512092400Z",
     "start_time": "2024-03-19T02:36:29.498075600Z"
    }
   },
   "id": "4cf4fd5f1cb1329c",
   "execution_count": 18
  },
  {
   "cell_type": "code",
   "outputs": [
    {
     "name": "stdout",
     "output_type": "stream",
     "text": [
      "(3+0j)\n",
      "(3+4j)\n",
      "(3+0j)\n",
      "(3+4j)\n"
     ]
    }
   ],
   "source": [
    "a = 3\n",
    "b = 4\n",
    "print(complex(3), end=\"\\n\")\n",
    "print(complex(3, 4), end=\"\\n\")\n",
    "print(complex(a), end=\"\\n\")\n",
    "print(complex(a, b), end=\"\\n\")"
   ],
   "metadata": {
    "collapsed": false,
    "ExecuteTime": {
     "end_time": "2024-03-19T02:36:29.535607200Z",
     "start_time": "2024-03-19T02:36:29.513088700Z"
    }
   },
   "id": "ffafa8168aadf516",
   "execution_count": 19
  },
  {
   "cell_type": "code",
   "outputs": [
    {
     "name": "stdout",
     "output_type": "stream",
     "text": [
      "(1.4142135623730951, 0.7853981633974483)\n",
      "(6.123233995736766e-17+1j)\n",
      "1.5707963267948966\n"
     ]
    }
   ],
   "source": [
    "import cmath\n",
    "\n",
    "z_1 = 1 + 1j\n",
    "z_2 = 2 - 1j\n",
    "z_3 = cmath.polar(z_1) # 극좌표 -> 크기와 위상 반환\n",
    "print(z_3, end=\"\\n\")\n",
    "z_4 = cmath.rect(1.0, cmath.pi/2) # 직각좌표 <-> 극좌표\n",
    "print(z_4, end=\"\\n\")\n",
    "print(cmath.phase(z_4), end=\"\\n\") # 위상값 (라디안 반환)"
   ],
   "metadata": {
    "collapsed": false,
    "ExecuteTime": {
     "end_time": "2024-03-19T02:36:29.542607900Z",
     "start_time": "2024-03-19T02:36:29.526601200Z"
    }
   },
   "id": "a75e9d457c396390",
   "execution_count": 20
  },
  {
   "cell_type": "code",
   "outputs": [
    {
     "name": "stdout",
     "output_type": "stream",
     "text": [
      "180.0\n",
      "1.5707963267948966\n"
     ]
    }
   ],
   "source": [
    "import math\n",
    "\n",
    "print(math.degrees(math.pi), end=\"\\n\")\n",
    "print(math.radians(90), end=\"\\n\")"
   ],
   "metadata": {
    "collapsed": false,
    "ExecuteTime": {
     "end_time": "2024-03-19T02:36:29.578219700Z",
     "start_time": "2024-03-19T02:36:29.544608500Z"
    }
   },
   "id": "c7aecbd7f944a8e3",
   "execution_count": 21
  },
  {
   "cell_type": "code",
   "outputs": [
    {
     "name": "stdout",
     "output_type": "stream",
     "text": [
      "[-0.5+0.8660254j -0.5-0.8660254j  1. +0.j       ]\n"
     ]
    }
   ],
   "source": [
    "import numpy\n",
    "\n",
    "print(numpy.roots([1, 0, 0, -1]), end=\"\\n\")"
   ],
   "metadata": {
    "collapsed": false,
    "ExecuteTime": {
     "end_time": "2024-03-19T02:37:27.739246500Z",
     "start_time": "2024-03-19T02:37:27.732735700Z"
    }
   },
   "id": "608e686c94c7c",
   "execution_count": 24
  },
  {
   "cell_type": "code",
   "outputs": [
    {
     "data": {
      "text/plain": "<Figure size 640x480 with 1 Axes>",
      "image/png": "[encoded data removed]"
     },
     "metadata": {},
     "output_type": "display_data"
    }
   ],
   "source": [
    "import matplotlib.pyplot\n",
    "import numpy\n",
    "\n",
    "z = numpy.roots([1, 0, 0, -1])\n",
    "fig = matplotlib.pyplot.figure()\n",
    "ax = fig.add_subplot(111)\n",
    "ax.set_xlim(-1.2, 1.2)\n",
    "ax.set_ylim(-1.2, 1.2)\n",
    "ax.set_title(\"roots of $z^3=1$\")\n",
    "ax.scatter(z.real, z.imag)\n",
    "ax.spines[\"left\"].set_position(\"center\")\n",
    "ax.spines[\"right\"].set_color(\"none\")\n",
    "ax.spines[\"bottom\"].set_position(\"center\")\n",
    "ax.spines[\"top\"].set_color(\"none\")\n",
    "#ax.spines[\"left\"].set_smart_bounds(True)\n",
    "#ax.spines[\"bottom\"].set_smart_bounds(True)\n",
    "ax.xaxis.set_ticks_position(\"bottom\")\n",
    "ax.yaxis.set_ticks_position(\"left\")\n",
    "matplotlib.pyplot.show()"
   ],
   "metadata": {
    "collapsed": false,
    "ExecuteTime": {
     "end_time": "2024-03-19T02:38:49.525732800Z",
     "start_time": "2024-03-19T02:38:49.430619700Z"
    }
   },
   "id": "68d9a2f0fdeb728f",
   "execution_count": 25
  },
  {
   "cell_type": "code",
   "outputs": [
    {
     "data": {
      "text/plain": "<Figure size 640x480 with 1 Axes>",
      "image/png": "[encoded data removed]"
     },
     "metadata": {},
     "output_type": "display_data"
    }
   ],
   "source": [
    "import matplotlib.pyplot\n",
    "import numpy\n",
    "\n",
    "z = numpy.roots([1, 0, 0, -1])\n",
    "fig = matplotlib.pyplot.figure()\n",
    "ax = fig.add_subplot(111)\n",
    "ax.set_xlim(-1.2, 1.2)\n",
    "ax.set_ylim(-1.2, 1.2)\n",
    "ax.set_title(\"roots of $z^3=1$\")\n",
    "ax.scatter(z.real, z.imag)\n",
    "matplotlib.pyplot.grid()\n",
    "matplotlib.pyplot.show()"
   ],
   "metadata": {
    "collapsed": false,
    "ExecuteTime": {
     "end_time": "2024-03-19T03:10:55.571630200Z",
     "start_time": "2024-03-19T03:10:55.480247700Z"
    }
   },
   "id": "c27f45a5ec10f78e",
   "execution_count": 44
  },
  {
   "cell_type": "code",
   "outputs": [],
   "source": [],
   "metadata": {
    "collapsed": false
   },
   "id": "a2ac3b0108fcf50"
  }
 ],
 "metadata": {
  "kernelspec": {
   "display_name": "Python 3",
   "language": "python",
   "name": "python3"
  },
  "language_info": {
   "codemirror_mode": {
    "name": "ipython",
    "version": 2
   },
   "file_extension": ".py",
   "mimetype": "text/x-python",
   "name": "python",
   "nbconvert_exporter": "python",
   "pygments_lexer": "ipython2",
   "version": "2.7.6"
  }
 },
 "nbformat": 4,
 "nbformat_minor": 5
}
