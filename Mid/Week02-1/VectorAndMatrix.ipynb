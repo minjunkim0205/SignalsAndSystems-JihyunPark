{
 "cells": [
  {
   "cell_type": "markdown",
   "source": [
    "# 실습 - 백터와 행렬"
   ],
   "metadata": {
    "collapsed": false
   },
   "id": "a54826b14fa53b8a"
  },
  {
   "cell_type": "markdown",
   "source": [
    "### 파이썬을 이용한 행렬 & 백터 처리"
   ],
   "metadata": {
    "collapsed": false
   },
   "id": "875ef45b34d68c0b"
  },
  {
   "cell_type": "code",
   "outputs": [
    {
     "name": "stdout",
     "output_type": "stream",
     "text": [
      "[0 1 2 3]\n",
      "[[0 1 2 3 4]\n",
      " [5 6 7 8 9]]\n",
      "(2, 5)\n",
      "2\n",
      "10\n",
      "7\n",
      "7\n"
     ]
    }
   ],
   "source": [
    "import numpy\n",
    "\n",
    "a = numpy.array([0, 1, 2, 3])\n",
    "print(a, end=\"\\n\")\n",
    "\n",
    "b = numpy.arange(10).reshape(2, 5)\n",
    "print(b, end=\"\\n\")\n",
    "\n",
    "print(b.shape, end=\"\\n\")\n",
    "print(b.ndim, end=\"\\n\")\n",
    "print(b.size, end=\"\\n\")\n",
    "print(b[(1, 2)], end=\"\\n\")\n",
    "print(b[1, 2], end=\"\\n\")"
   ],
   "metadata": {
    "collapsed": false,
    "ExecuteTime": {
     "end_time": "2024-03-12T02:22:04.599062500Z",
     "start_time": "2024-03-12T02:22:04.467842200Z"
    }
   },
   "id": "3d1f565584146289",
   "execution_count": 1
  },
  {
   "cell_type": "code",
   "outputs": [
    {
     "ename": "TypeError",
     "evalue": "unsupported operand type(s) for -: 'list' and 'int'",
     "output_type": "error",
     "traceback": [
      "\u001B[1;31m---------------------------------------------------------------------------\u001B[0m",
      "\u001B[1;31mTypeError\u001B[0m                                 Traceback (most recent call last)",
      "Cell \u001B[1;32mIn[6], line 3\u001B[0m\n\u001B[0;32m      1\u001B[0m \u001B[38;5;28;01mimport\u001B[39;00m \u001B[38;5;21;01mnumpy\u001B[39;00m\n\u001B[1;32m----> 3\u001B[0m a \u001B[38;5;241m=\u001B[39m \u001B[43mnumpy\u001B[49m\u001B[38;5;241;43m.\u001B[39;49m\u001B[43marange\u001B[49m\u001B[43m(\u001B[49m\u001B[43m[\u001B[49m\u001B[38;5;241;43m1\u001B[39;49m\u001B[43m,\u001B[49m\u001B[43m \u001B[49m\u001B[38;5;241;43m2\u001B[39;49m\u001B[43m,\u001B[49m\u001B[43m \u001B[49m\u001B[38;5;241;43m3\u001B[39;49m\u001B[43m,\u001B[49m\u001B[43m \u001B[49m\u001B[38;5;241;43m3\u001B[39;49m\u001B[43m,\u001B[49m\u001B[43m \u001B[49m\u001B[38;5;241;43m2\u001B[39;49m\u001B[43m,\u001B[49m\u001B[43m \u001B[49m\u001B[38;5;241;43m5\u001B[39;49m\u001B[43m]\u001B[49m\u001B[43m)\u001B[49m\u001B[38;5;241m.\u001B[39mreshape(\u001B[38;5;241m2\u001B[39m, \u001B[38;5;241m3\u001B[39m)\n\u001B[0;32m      4\u001B[0m b \u001B[38;5;241m=\u001B[39m numpy\u001B[38;5;241m.\u001B[39marange([[\u001B[38;5;241m-\u001B[39m\u001B[38;5;241m1\u001B[39m, \u001B[38;5;241m3\u001B[39m, \u001B[38;5;241m5\u001B[39m], [\u001B[38;5;241m1\u001B[39m, \u001B[38;5;241m4\u001B[39m, \u001B[38;5;241m2\u001B[39m]])\n\u001B[0;32m      5\u001B[0m \u001B[38;5;28mprint\u001B[39m(a\u001B[38;5;241m+\u001B[39mb, end\u001B[38;5;241m=\u001B[39m\u001B[38;5;124m\"\u001B[39m\u001B[38;5;130;01m\\n\u001B[39;00m\u001B[38;5;124m\"\u001B[39m)\n",
      "\u001B[1;31mTypeError\u001B[0m: unsupported operand type(s) for -: 'list' and 'int'"
     ]
    }
   ],
   "source": [
    "import numpy\n",
    "\n",
    "a = numpy.arange([1, 2, 3, 3, 2, 5]).reshape(2, 3)\n",
    "b = numpy.arange([[-1, 3, 5], [1, 4, 2]])\n",
    "print(a+b, end=\"\\n\")\n",
    "print(a-b, end=\"\\n\")\n",
    "print(a*b, end=\"\\n\")\n",
    "print(a/b, end=\"\\n\")\n",
    "\n",
    "c = numpy.arange([1, 2, 3, 4, 5]).reshape(3, 2)\n",
    "print(c, end=\"\\n\")\n",
    "\n",
    "print(numpy.dot(a, c), end=\"\\n\")\n",
    "print(numpy.dot(b, c), end=\"\\n\")\n",
    "print(numpy.dot(a, b), end=\"\\n\")"
   ],
   "metadata": {
    "collapsed": false,
    "ExecuteTime": {
     "end_time": "2024-03-12T03:21:25.292755300Z",
     "start_time": "2024-03-12T03:21:25.271240100Z"
    }
   },
   "id": "d0c503100cba8b41",
   "execution_count": 6
  },
  {
   "cell_type": "code",
   "outputs": [],
   "source": [],
   "metadata": {
    "collapsed": false
   },
   "id": "6476772ce54014b3"
  }
 ],
 "metadata": {
  "kernelspec": {
   "display_name": "Python 3",
   "language": "python",
   "name": "python3"
  },
  "language_info": {
   "codemirror_mode": {
    "name": "ipython",
    "version": 2
   },
   "file_extension": ".py",
   "mimetype": "text/x-python",
   "name": "python",
   "nbconvert_exporter": "python",
   "pygments_lexer": "ipython2",
   "version": "2.7.6"
  }
 },
 "nbformat": 4,
 "nbformat_minor": 5
}
